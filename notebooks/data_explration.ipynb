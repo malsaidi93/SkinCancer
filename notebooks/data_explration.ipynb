{
 "cells": [
  {
   "cell_type": "code",
   "execution_count": 1,
   "metadata": {
    "collapsed": false,
    "jupyter": {
     "outputs_hidden": false
    }
   },
   "outputs": [
    {
     "name": "stderr",
     "output_type": "stream",
     "text": [
      "/Users/admin/Documents/Github/SkinCancer/env/lib/python3.9/site-packages/tqdm/auto.py:21: TqdmWarning: IProgress not found. Please update jupyter and ipywidgets. See https://ipywidgets.readthedocs.io/en/stable/user_install.html\n",
      "  from .autonotebook import tqdm as notebook_tqdm\n"
     ]
    }
   ],
   "source": [
    "import os, sys\n",
    "import glob\n",
    "import tqdm\n",
    "import cv2\n",
    "import numpy as np\n",
    "import pandas as pd\n",
    "import matplotlib.pyplot as plt\n",
    "\n",
    "import torch"
   ]
  },
  {
   "cell_type": "code",
   "execution_count": null,
   "metadata": {
    "collapsed": false,
    "jupyter": {
     "outputs_hidden": false
    }
   },
   "outputs": [],
   "source": [
    "# Data exploration"
   ]
  },
  {
   "cell_type": "code",
   "execution_count": 3,
   "metadata": {
    "collapsed": false,
    "jupyter": {
     "outputs_hidden": false
    }
   },
   "outputs": [
    {
     "name": "stderr",
     "output_type": "stream",
     "text": [
      "/Users/admin/Documents/Github/SkinCancer/env/lib/python3.9/site-packages/urllib3/__init__.py:34: NotOpenSSLWarning: urllib3 v2.0 only supports OpenSSL 1.1.1+, currently the 'ssl' module is compiled with 'LibreSSL 2.8.3'. See: https://github.com/urllib3/urllib3/issues/3020\n",
      "  warnings.warn(\n"
     ]
    }
   ],
   "source": [
    "sys.path.insert(0,'/Users/admin/Documents/GitHub/SkinCancer/src')\n",
    "from dataset import SkinCancer"
   ]
  },
  {
   "cell_type": "code",
   "execution_count": 5,
   "metadata": {
    "collapsed": false,
    "jupyter": {
     "outputs_hidden": false
    }
   },
   "outputs": [
    {
     "data": {
      "text/html": [
       "<div>\n",
       "<style scoped>\n",
       "    .dataframe tbody tr th:only-of-type {\n",
       "        vertical-align: middle;\n",
       "    }\n",
       "\n",
       "    .dataframe tbody tr th {\n",
       "        vertical-align: top;\n",
       "    }\n",
       "\n",
       "    .dataframe thead th {\n",
       "        text-align: right;\n",
       "    }\n",
       "</style>\n",
       "<table border=\"1\" class=\"dataframe\">\n",
       "  <thead>\n",
       "    <tr style=\"text-align: right;\">\n",
       "      <th></th>\n",
       "      <th>lesion_id</th>\n",
       "      <th>image_id</th>\n",
       "      <th>dx</th>\n",
       "      <th>dx_type</th>\n",
       "      <th>age</th>\n",
       "      <th>sex</th>\n",
       "      <th>localization</th>\n",
       "      <th>image_path</th>\n",
       "    </tr>\n",
       "  </thead>\n",
       "  <tbody>\n",
       "    <tr>\n",
       "      <th>0</th>\n",
       "      <td>HAM_0000118</td>\n",
       "      <td>ISIC_0027419</td>\n",
       "      <td>bkl</td>\n",
       "      <td>histo</td>\n",
       "      <td>80.0</td>\n",
       "      <td>male</td>\n",
       "      <td>scalp</td>\n",
       "      <td>../data/HAM10k/HAM10000_images/ISIC_0027419.jpg</td>\n",
       "    </tr>\n",
       "    <tr>\n",
       "      <th>1</th>\n",
       "      <td>HAM_0000118</td>\n",
       "      <td>ISIC_0025030</td>\n",
       "      <td>bkl</td>\n",
       "      <td>histo</td>\n",
       "      <td>80.0</td>\n",
       "      <td>male</td>\n",
       "      <td>scalp</td>\n",
       "      <td>../data/HAM10k/HAM10000_images/ISIC_0025030.jpg</td>\n",
       "    </tr>\n",
       "    <tr>\n",
       "      <th>2</th>\n",
       "      <td>HAM_0002730</td>\n",
       "      <td>ISIC_0026769</td>\n",
       "      <td>bkl</td>\n",
       "      <td>histo</td>\n",
       "      <td>80.0</td>\n",
       "      <td>male</td>\n",
       "      <td>scalp</td>\n",
       "      <td>../data/HAM10k/HAM10000_images/ISIC_0026769.jpg</td>\n",
       "    </tr>\n",
       "    <tr>\n",
       "      <th>3</th>\n",
       "      <td>HAM_0002730</td>\n",
       "      <td>ISIC_0025661</td>\n",
       "      <td>bkl</td>\n",
       "      <td>histo</td>\n",
       "      <td>80.0</td>\n",
       "      <td>male</td>\n",
       "      <td>scalp</td>\n",
       "      <td>../data/HAM10k/HAM10000_images/ISIC_0025661.jpg</td>\n",
       "    </tr>\n",
       "    <tr>\n",
       "      <th>4</th>\n",
       "      <td>HAM_0001466</td>\n",
       "      <td>ISIC_0031633</td>\n",
       "      <td>bkl</td>\n",
       "      <td>histo</td>\n",
       "      <td>75.0</td>\n",
       "      <td>male</td>\n",
       "      <td>ear</td>\n",
       "      <td>../data/HAM10k/HAM10000_images/ISIC_0031633.jpg</td>\n",
       "    </tr>\n",
       "  </tbody>\n",
       "</table>\n",
       "</div>"
      ],
      "text/plain": [
       "     lesion_id      image_id   dx dx_type   age   sex localization  \\\n",
       "0  HAM_0000118  ISIC_0027419  bkl   histo  80.0  male        scalp   \n",
       "1  HAM_0000118  ISIC_0025030  bkl   histo  80.0  male        scalp   \n",
       "2  HAM_0002730  ISIC_0026769  bkl   histo  80.0  male        scalp   \n",
       "3  HAM_0002730  ISIC_0025661  bkl   histo  80.0  male        scalp   \n",
       "4  HAM_0001466  ISIC_0031633  bkl   histo  75.0  male          ear   \n",
       "\n",
       "                                        image_path  \n",
       "0  ../data/HAM10k/HAM10000_images/ISIC_0027419.jpg  \n",
       "1  ../data/HAM10k/HAM10000_images/ISIC_0025030.jpg  \n",
       "2  ../data/HAM10k/HAM10000_images/ISIC_0026769.jpg  \n",
       "3  ../data/HAM10k/HAM10000_images/ISIC_0025661.jpg  \n",
       "4  ../data/HAM10k/HAM10000_images/ISIC_0031633.jpg  "
      ]
     },
     "execution_count": 5,
     "metadata": {},
     "output_type": "execute_result"
    }
   ],
   "source": [
    "df = pd.read_csv('../csv/new_meta.csv')\n",
    "df.head()"
   ]
  },
  {
   "cell_type": "code",
   "execution_count": 16,
   "metadata": {},
   "outputs": [
    {
     "data": {
      "text/plain": [
       "2462     ../data/HAM10k/HAM10000_images/ISIC_0028155.jpg\n",
       "2463     ../data/HAM10k/HAM10000_images/ISIC_0034093.jpg\n",
       "2464     ../data/HAM10k/HAM10000_images/ISIC_0029230.jpg\n",
       "2465     ../data/HAM10k/HAM10000_images/ISIC_0031513.jpg\n",
       "2466     ../data/HAM10k/HAM10000_images/ISIC_0032384.jpg\n",
       "                              ...                       \n",
       "10009    ../data/HAM10k/HAM10000_images/ISIC_0031430.jpg\n",
       "10010    ../data/HAM10k/HAM10000_images/ISIC_0033084.jpg\n",
       "10011    ../data/HAM10k/HAM10000_images/ISIC_0033550.jpg\n",
       "10012    ../data/HAM10k/HAM10000_images/ISIC_0033536.jpg\n",
       "10013    ../data/HAM10k/HAM10000_images/ISIC_0032854.jpg\n",
       "Name: image_path, Length: 841, dtype: object"
      ]
     },
     "execution_count": 16,
     "metadata": {},
     "output_type": "execute_result"
    }
   ],
   "source": [
    "\n",
    "classes_to_augment = ['akiec', 'bcc']\n",
    "# df[df['dx'].isin(['nv'])].shape\n",
    "img_path = df.iloc[:,-1]\n",
    "img_path[df['dx'].isin(classes_to_augment)]\n"
   ]
  },
  {
   "cell_type": "code",
   "execution_count": 17,
   "metadata": {},
   "outputs": [],
   "source": [
    "counts = df['dx'].value_counts().to_dict()"
   ]
  },
  {
   "cell_type": "code",
   "execution_count": 18,
   "metadata": {
    "tags": []
   },
   "outputs": [
    {
     "data": {
      "text/plain": [
       "{'nv': 6705,\n",
       " 'mel': 1113,\n",
       " 'bkl': 1099,\n",
       " 'bcc': 514,\n",
       " 'akiec': 327,\n",
       " 'vasc': 142,\n",
       " 'df': 115}"
      ]
     },
     "execution_count": 18,
     "metadata": {},
     "output_type": "execute_result"
    }
   ],
   "source": [
    "counts"
   ]
  },
  {
   "cell_type": "code",
   "execution_count": null,
   "metadata": {},
   "outputs": [],
   "source": [
    "[1 - counts[i]/df.shape[0] for i in self.classes]"
   ]
  },
  {
   "cell_type": "code",
   "execution_count": null,
   "metadata": {
    "collapsed": false,
    "jupyter": {
     "outputs_hidden": false
    }
   },
   "outputs": [],
   "source": [
    "df['image_path'][0]"
   ]
  },
  {
   "cell_type": "code",
   "execution_count": 4,
   "metadata": {
    "collapsed": false,
    "jupyter": {
     "outputs_hidden": false
    }
   },
   "outputs": [],
   "source": [
    "root_path = '../data/HAM10k/HAM10000_images'\n"
   ]
  },
  {
   "cell_type": "code",
   "execution_count": 5,
   "metadata": {
    "collapsed": false,
    "jupyter": {
     "outputs_hidden": false
    }
   },
   "outputs": [],
   "source": [
    "ds = SkinCancer(root_path,'../data/train.csv')"
   ]
  },
  {
   "cell_type": "code",
   "execution_count": null,
   "metadata": {
    "tags": []
   },
   "outputs": [],
   "source": [
    "ds.classes_all"
   ]
  },
  {
   "cell_type": "code",
   "execution_count": 23,
   "metadata": {},
   "outputs": [],
   "source": [
    "import torch\n",
    "from sklearn.utils import class_weight"
   ]
  },
  {
   "cell_type": "code",
   "execution_count": null,
   "metadata": {},
   "outputs": [],
   "source": [
    "y = df['dx'].to_numpy()"
   ]
  },
  {
   "cell_type": "code",
   "execution_count": null,
   "metadata": {},
   "outputs": [],
   "source": [
    "del class_weights"
   ]
  },
  {
   "cell_type": "code",
   "execution_count": 24,
   "metadata": {},
   "outputs": [],
   "source": [
    "class_weights=class_weight.compute_class_weight('balanced',classes=np.unique(ds.classes),y=np.array(ds.classes_all))\n",
    "class_weights=torch.tensor(class_weights,dtype=torch.float)"
   ]
  },
  {
   "cell_type": "code",
   "execution_count": null,
   "metadata": {},
   "outputs": [],
   "source": [
    "class_weights.shape"
   ]
  },
  {
   "cell_type": "code",
   "execution_count": 25,
   "metadata": {},
   "outputs": [
    {
     "data": {
      "text/plain": [
       "tensor([ 4.3686,  2.7848,  1.3021, 12.4410,  1.2860,  0.2134, 10.0401])"
      ]
     },
     "execution_count": 25,
     "metadata": {},
     "output_type": "execute_result"
    }
   ],
   "source": [
    "class_weights"
   ]
  },
  {
   "cell_type": "code",
   "execution_count": 26,
   "metadata": {},
   "outputs": [
    {
     "data": {
      "text/plain": [
       "['nv', 'bkl', 'mel', 'bcc', 'akiec', 'df', 'vasc']"
      ]
     },
     "execution_count": 26,
     "metadata": {},
     "output_type": "execute_result"
    }
   ],
   "source": [
    "ds.classes"
   ]
  },
  {
   "cell_type": "code",
   "execution_count": null,
   "metadata": {},
   "outputs": [],
   "source": []
  },
  {
   "cell_type": "code",
   "execution_count": 14,
   "metadata": {},
   "outputs": [],
   "source": [
    "df_minority = df[df['dx']!='nv']"
   ]
  },
  {
   "cell_type": "code",
   "execution_count": 16,
   "metadata": {},
   "outputs": [
    {
     "data": {
      "text/plain": [
       "mel      1113\n",
       "bkl      1099\n",
       "bcc       514\n",
       "akiec     327\n",
       "vasc      142\n",
       "df        115\n",
       "Name: dx, dtype: int64"
      ]
     },
     "execution_count": 16,
     "metadata": {},
     "output_type": "execute_result"
    }
   ],
   "source": [
    "df_minority['dx'].value_counts()"
   ]
  },
  {
   "cell_type": "code",
   "execution_count": 30,
   "metadata": {},
   "outputs": [],
   "source": [
    "dftrain = pd.read_csv('../data/augment2_train.csv')\n",
    "dftest = pd.read_csv('../data/augment2_test.csv')"
   ]
  },
  {
   "cell_type": "code",
   "execution_count": 31,
   "metadata": {},
   "outputs": [
    {
     "data": {
      "text/html": [
       "<div>\n",
       "<style scoped>\n",
       "    .dataframe tbody tr th:only-of-type {\n",
       "        vertical-align: middle;\n",
       "    }\n",
       "\n",
       "    .dataframe tbody tr th {\n",
       "        vertical-align: top;\n",
       "    }\n",
       "\n",
       "    .dataframe thead th {\n",
       "        text-align: right;\n",
       "    }\n",
       "</style>\n",
       "<table border=\"1\" class=\"dataframe\">\n",
       "  <thead>\n",
       "    <tr style=\"text-align: right;\">\n",
       "      <th></th>\n",
       "      <th>lesion_id</th>\n",
       "      <th>image_id</th>\n",
       "      <th>dx</th>\n",
       "      <th>dx_type</th>\n",
       "      <th>age</th>\n",
       "      <th>sex</th>\n",
       "      <th>localization</th>\n",
       "      <th>image_path</th>\n",
       "    </tr>\n",
       "  </thead>\n",
       "  <tbody>\n",
       "    <tr>\n",
       "      <th>0</th>\n",
       "      <td>HAM_0004756</td>\n",
       "      <td>ISIC_0030442_1</td>\n",
       "      <td>df</td>\n",
       "      <td>histo</td>\n",
       "      <td>55.0</td>\n",
       "      <td>male</td>\n",
       "      <td>lower extremity</td>\n",
       "      <td>../data/Augmented_rename/ISIC_0030442_1.jpg</td>\n",
       "    </tr>\n",
       "    <tr>\n",
       "      <th>1</th>\n",
       "      <td>HAM_0005989</td>\n",
       "      <td>ISIC_0033123_41</td>\n",
       "      <td>vasc</td>\n",
       "      <td>histo</td>\n",
       "      <td>25.0</td>\n",
       "      <td>female</td>\n",
       "      <td>back</td>\n",
       "      <td>../data/Augmented_rename/ISIC_0033123_41.jpg</td>\n",
       "    </tr>\n",
       "    <tr>\n",
       "      <th>2</th>\n",
       "      <td>HAM_0007225</td>\n",
       "      <td>ISIC_0031429_34</td>\n",
       "      <td>df</td>\n",
       "      <td>histo</td>\n",
       "      <td>75.0</td>\n",
       "      <td>male</td>\n",
       "      <td>lower extremity</td>\n",
       "      <td>../data/Augmented_rename/ISIC_0031429_34.jpg</td>\n",
       "    </tr>\n",
       "    <tr>\n",
       "      <th>3</th>\n",
       "      <td>HAM_0007410</td>\n",
       "      <td>ISIC_0031457_47</td>\n",
       "      <td>df</td>\n",
       "      <td>histo</td>\n",
       "      <td>65.0</td>\n",
       "      <td>male</td>\n",
       "      <td>foot</td>\n",
       "      <td>../data/Augmented_rename/ISIC_0031457_47.jpg</td>\n",
       "    </tr>\n",
       "    <tr>\n",
       "      <th>4</th>\n",
       "      <td>HAM_0002639</td>\n",
       "      <td>ISIC_0025249_24</td>\n",
       "      <td>vasc</td>\n",
       "      <td>consensus</td>\n",
       "      <td>30.0</td>\n",
       "      <td>female</td>\n",
       "      <td>lower extremity</td>\n",
       "      <td>../data/Augmented_rename/ISIC_0025249_24.jpg</td>\n",
       "    </tr>\n",
       "    <tr>\n",
       "      <th>...</th>\n",
       "      <td>...</td>\n",
       "      <td>...</td>\n",
       "      <td>...</td>\n",
       "      <td>...</td>\n",
       "      <td>...</td>\n",
       "      <td>...</td>\n",
       "      <td>...</td>\n",
       "      <td>...</td>\n",
       "    </tr>\n",
       "    <tr>\n",
       "      <th>34898</th>\n",
       "      <td>HAM_0004984</td>\n",
       "      <td>ISIC_0032879_1</td>\n",
       "      <td>mel</td>\n",
       "      <td>histo</td>\n",
       "      <td>80.0</td>\n",
       "      <td>male</td>\n",
       "      <td>face</td>\n",
       "      <td>../data/Augmented_rename/ISIC_0032879_1.jpg</td>\n",
       "    </tr>\n",
       "    <tr>\n",
       "      <th>34899</th>\n",
       "      <td>HAM_0001852</td>\n",
       "      <td>ISIC_0033749_0</td>\n",
       "      <td>vasc</td>\n",
       "      <td>histo</td>\n",
       "      <td>80.0</td>\n",
       "      <td>male</td>\n",
       "      <td>lower extremity</td>\n",
       "      <td>../data/Augmented_rename/ISIC_0033749_0.jpg</td>\n",
       "    </tr>\n",
       "    <tr>\n",
       "      <th>34900</th>\n",
       "      <td>HAM_0001616</td>\n",
       "      <td>ISIC_0029669_7</td>\n",
       "      <td>bcc</td>\n",
       "      <td>histo</td>\n",
       "      <td>65.0</td>\n",
       "      <td>female</td>\n",
       "      <td>back</td>\n",
       "      <td>../data/Augmented_rename/ISIC_0029669_7.jpg</td>\n",
       "    </tr>\n",
       "    <tr>\n",
       "      <th>34901</th>\n",
       "      <td>HAM_0000940</td>\n",
       "      <td>ISIC_0033608_36</td>\n",
       "      <td>vasc</td>\n",
       "      <td>histo</td>\n",
       "      <td>35.0</td>\n",
       "      <td>female</td>\n",
       "      <td>lower extremity</td>\n",
       "      <td>../data/Augmented_rename/ISIC_0033608_36.jpg</td>\n",
       "    </tr>\n",
       "    <tr>\n",
       "      <th>34902</th>\n",
       "      <td>HAM_0000687</td>\n",
       "      <td>ISIC_0028994_6</td>\n",
       "      <td>bcc</td>\n",
       "      <td>histo</td>\n",
       "      <td>85.0</td>\n",
       "      <td>male</td>\n",
       "      <td>lower extremity</td>\n",
       "      <td>../data/Augmented_rename/ISIC_0028994_6.jpg</td>\n",
       "    </tr>\n",
       "  </tbody>\n",
       "</table>\n",
       "<p>34903 rows × 8 columns</p>\n",
       "</div>"
      ],
      "text/plain": [
       "         lesion_id         image_id    dx    dx_type   age     sex  \\\n",
       "0      HAM_0004756   ISIC_0030442_1    df      histo  55.0    male   \n",
       "1      HAM_0005989  ISIC_0033123_41  vasc      histo  25.0  female   \n",
       "2      HAM_0007225  ISIC_0031429_34    df      histo  75.0    male   \n",
       "3      HAM_0007410  ISIC_0031457_47    df      histo  65.0    male   \n",
       "4      HAM_0002639  ISIC_0025249_24  vasc  consensus  30.0  female   \n",
       "...            ...              ...   ...        ...   ...     ...   \n",
       "34898  HAM_0004984   ISIC_0032879_1   mel      histo  80.0    male   \n",
       "34899  HAM_0001852   ISIC_0033749_0  vasc      histo  80.0    male   \n",
       "34900  HAM_0001616   ISIC_0029669_7   bcc      histo  65.0  female   \n",
       "34901  HAM_0000940  ISIC_0033608_36  vasc      histo  35.0  female   \n",
       "34902  HAM_0000687   ISIC_0028994_6   bcc      histo  85.0    male   \n",
       "\n",
       "          localization                                    image_path  \n",
       "0      lower extremity   ../data/Augmented_rename/ISIC_0030442_1.jpg  \n",
       "1                 back  ../data/Augmented_rename/ISIC_0033123_41.jpg  \n",
       "2      lower extremity  ../data/Augmented_rename/ISIC_0031429_34.jpg  \n",
       "3                 foot  ../data/Augmented_rename/ISIC_0031457_47.jpg  \n",
       "4      lower extremity  ../data/Augmented_rename/ISIC_0025249_24.jpg  \n",
       "...                ...                                           ...  \n",
       "34898             face   ../data/Augmented_rename/ISIC_0032879_1.jpg  \n",
       "34899  lower extremity   ../data/Augmented_rename/ISIC_0033749_0.jpg  \n",
       "34900             back   ../data/Augmented_rename/ISIC_0029669_7.jpg  \n",
       "34901  lower extremity  ../data/Augmented_rename/ISIC_0033608_36.jpg  \n",
       "34902  lower extremity   ../data/Augmented_rename/ISIC_0028994_6.jpg  \n",
       "\n",
       "[34903 rows x 8 columns]"
      ]
     },
     "execution_count": 31,
     "metadata": {},
     "output_type": "execute_result"
    }
   ],
   "source": [
    "dftrain"
   ]
  },
  {
   "cell_type": "code",
   "execution_count": 33,
   "metadata": {},
   "outputs": [
    {
     "data": {
      "text/html": [
       "<div>\n",
       "<style scoped>\n",
       "    .dataframe tbody tr th:only-of-type {\n",
       "        vertical-align: middle;\n",
       "    }\n",
       "\n",
       "    .dataframe tbody tr th {\n",
       "        vertical-align: top;\n",
       "    }\n",
       "\n",
       "    .dataframe thead th {\n",
       "        text-align: right;\n",
       "    }\n",
       "</style>\n",
       "<table border=\"1\" class=\"dataframe\">\n",
       "  <thead>\n",
       "    <tr style=\"text-align: right;\">\n",
       "      <th></th>\n",
       "      <th>lesion_id</th>\n",
       "      <th>image_id</th>\n",
       "      <th>dx</th>\n",
       "      <th>dx_type</th>\n",
       "      <th>age</th>\n",
       "      <th>sex</th>\n",
       "      <th>localization</th>\n",
       "      <th>image_path</th>\n",
       "    </tr>\n",
       "  </thead>\n",
       "  <tbody>\n",
       "    <tr>\n",
       "      <th>12</th>\n",
       "      <td>HAM_0003767</td>\n",
       "      <td>ISIC_0024604</td>\n",
       "      <td>nv</td>\n",
       "      <td>histo</td>\n",
       "      <td>60.0</td>\n",
       "      <td>male</td>\n",
       "      <td>upper extremity</td>\n",
       "      <td>../data/HAM10k/HAM10000_images/ISIC_0024604.jpg</td>\n",
       "    </tr>\n",
       "    <tr>\n",
       "      <th>18</th>\n",
       "      <td>HAM_0000366</td>\n",
       "      <td>ISIC_0027147</td>\n",
       "      <td>nv</td>\n",
       "      <td>histo</td>\n",
       "      <td>75.0</td>\n",
       "      <td>male</td>\n",
       "      <td>back</td>\n",
       "      <td>../data/HAM10k/HAM10000_images/ISIC_0027147.jpg</td>\n",
       "    </tr>\n",
       "    <tr>\n",
       "      <th>20</th>\n",
       "      <td>HAM_0001112</td>\n",
       "      <td>ISIC_0024359</td>\n",
       "      <td>nv</td>\n",
       "      <td>follow_up</td>\n",
       "      <td>40.0</td>\n",
       "      <td>male</td>\n",
       "      <td>back</td>\n",
       "      <td>../data/HAM10k/HAM10000_images/ISIC_0024359.jpg</td>\n",
       "    </tr>\n",
       "    <tr>\n",
       "      <th>24</th>\n",
       "      <td>HAM_0003836</td>\n",
       "      <td>ISIC_0031802</td>\n",
       "      <td>nv</td>\n",
       "      <td>histo</td>\n",
       "      <td>55.0</td>\n",
       "      <td>male</td>\n",
       "      <td>unknown</td>\n",
       "      <td>../data/HAM10k/HAM10000_images/ISIC_0031802.jpg</td>\n",
       "    </tr>\n",
       "    <tr>\n",
       "      <th>26</th>\n",
       "      <td>HAM_0001398</td>\n",
       "      <td>ISIC_0027934</td>\n",
       "      <td>nv</td>\n",
       "      <td>follow_up</td>\n",
       "      <td>65.0</td>\n",
       "      <td>female</td>\n",
       "      <td>back</td>\n",
       "      <td>../data/HAM10k/HAM10000_images/ISIC_0027934.jpg</td>\n",
       "    </tr>\n",
       "    <tr>\n",
       "      <th>...</th>\n",
       "      <td>...</td>\n",
       "      <td>...</td>\n",
       "      <td>...</td>\n",
       "      <td>...</td>\n",
       "      <td>...</td>\n",
       "      <td>...</td>\n",
       "      <td>...</td>\n",
       "      <td>...</td>\n",
       "    </tr>\n",
       "    <tr>\n",
       "      <th>8691</th>\n",
       "      <td>HAM_0004066</td>\n",
       "      <td>ISIC_0026390</td>\n",
       "      <td>nv</td>\n",
       "      <td>follow_up</td>\n",
       "      <td>30.0</td>\n",
       "      <td>female</td>\n",
       "      <td>back</td>\n",
       "      <td>../data/HAM10k/HAM10000_images/ISIC_0026390.jpg</td>\n",
       "    </tr>\n",
       "    <tr>\n",
       "      <th>8693</th>\n",
       "      <td>HAM_0005143</td>\n",
       "      <td>ISIC_0030303</td>\n",
       "      <td>nv</td>\n",
       "      <td>histo</td>\n",
       "      <td>40.0</td>\n",
       "      <td>male</td>\n",
       "      <td>chest</td>\n",
       "      <td>../data/HAM10k/HAM10000_images/ISIC_0030303.jpg</td>\n",
       "    </tr>\n",
       "    <tr>\n",
       "      <th>8695</th>\n",
       "      <td>HAM_0007295</td>\n",
       "      <td>ISIC_0031380</td>\n",
       "      <td>nv</td>\n",
       "      <td>histo</td>\n",
       "      <td>60.0</td>\n",
       "      <td>female</td>\n",
       "      <td>chest</td>\n",
       "      <td>../data/HAM10k/HAM10000_images/ISIC_0031380.jpg</td>\n",
       "    </tr>\n",
       "    <tr>\n",
       "      <th>8702</th>\n",
       "      <td>HAM_0004149</td>\n",
       "      <td>ISIC_0033880</td>\n",
       "      <td>nv</td>\n",
       "      <td>histo</td>\n",
       "      <td>45.0</td>\n",
       "      <td>female</td>\n",
       "      <td>foot</td>\n",
       "      <td>../data/HAM10k/HAM10000_images/ISIC_0033880.jpg</td>\n",
       "    </tr>\n",
       "    <tr>\n",
       "      <th>8714</th>\n",
       "      <td>HAM_0003160</td>\n",
       "      <td>ISIC_0029587</td>\n",
       "      <td>nv</td>\n",
       "      <td>follow_up</td>\n",
       "      <td>75.0</td>\n",
       "      <td>female</td>\n",
       "      <td>back</td>\n",
       "      <td>../data/HAM10k/HAM10000_images/ISIC_0029587.jpg</td>\n",
       "    </tr>\n",
       "  </tbody>\n",
       "</table>\n",
       "<p>1332 rows × 8 columns</p>\n",
       "</div>"
      ],
      "text/plain": [
       "        lesion_id      image_id  dx    dx_type   age     sex     localization  \\\n",
       "12    HAM_0003767  ISIC_0024604  nv      histo  60.0    male  upper extremity   \n",
       "18    HAM_0000366  ISIC_0027147  nv      histo  75.0    male             back   \n",
       "20    HAM_0001112  ISIC_0024359  nv  follow_up  40.0    male             back   \n",
       "24    HAM_0003836  ISIC_0031802  nv      histo  55.0    male          unknown   \n",
       "26    HAM_0001398  ISIC_0027934  nv  follow_up  65.0  female             back   \n",
       "...           ...           ...  ..        ...   ...     ...              ...   \n",
       "8691  HAM_0004066  ISIC_0026390  nv  follow_up  30.0  female             back   \n",
       "8693  HAM_0005143  ISIC_0030303  nv      histo  40.0    male            chest   \n",
       "8695  HAM_0007295  ISIC_0031380  nv      histo  60.0  female            chest   \n",
       "8702  HAM_0004149  ISIC_0033880  nv      histo  45.0  female             foot   \n",
       "8714  HAM_0003160  ISIC_0029587  nv  follow_up  75.0  female             back   \n",
       "\n",
       "                                           image_path  \n",
       "12    ../data/HAM10k/HAM10000_images/ISIC_0024604.jpg  \n",
       "18    ../data/HAM10k/HAM10000_images/ISIC_0027147.jpg  \n",
       "20    ../data/HAM10k/HAM10000_images/ISIC_0024359.jpg  \n",
       "24    ../data/HAM10k/HAM10000_images/ISIC_0031802.jpg  \n",
       "26    ../data/HAM10k/HAM10000_images/ISIC_0027934.jpg  \n",
       "...                                               ...  \n",
       "8691  ../data/HAM10k/HAM10000_images/ISIC_0026390.jpg  \n",
       "8693  ../data/HAM10k/HAM10000_images/ISIC_0030303.jpg  \n",
       "8695  ../data/HAM10k/HAM10000_images/ISIC_0031380.jpg  \n",
       "8702  ../data/HAM10k/HAM10000_images/ISIC_0033880.jpg  \n",
       "8714  ../data/HAM10k/HAM10000_images/ISIC_0029587.jpg  \n",
       "\n",
       "[1332 rows x 8 columns]"
      ]
     },
     "execution_count": 33,
     "metadata": {},
     "output_type": "execute_result"
    }
   ],
   "source": [
    "dftest[dftest['dx']=='nv']"
   ]
  },
  {
   "cell_type": "code",
   "execution_count": 47,
   "metadata": {},
   "outputs": [
    {
     "data": {
      "text/plain": [
       "46996"
      ]
     },
     "execution_count": 47,
     "metadata": {},
     "output_type": "execute_result"
    }
   ],
   "source": [
    "df = pd.read_csv('../data/new_augmented.csv')\n",
    "df['dx'].value_counts().sum()"
   ]
  },
  {
   "cell_type": "code",
   "execution_count": 46,
   "metadata": {},
   "outputs": [
    {
     "data": {
      "text/plain": [
       "37131"
      ]
     },
     "execution_count": 46,
     "metadata": {},
     "output_type": "execute_result"
    }
   ],
   "source": [
    "len(glob.glob('../data/Augmented_rename/*.jpg'))"
   ]
  },
  {
   "cell_type": "code",
   "execution_count": null,
   "metadata": {},
   "outputs": [],
   "source": []
  },
  {
   "cell_type": "code",
   "execution_count": 34,
   "metadata": {},
   "outputs": [],
   "source": [
    "import matplotlib.pyplot as plt\n",
    "\n"
   ]
  },
  {
   "cell_type": "code",
   "execution_count": 42,
   "metadata": {},
   "outputs": [
    {
     "data": {
      "text/plain": [
       "['nv', 'df', 'vasc', 'akiec', 'bcc', 'bkl', 'mel']"
      ]
     },
     "execution_count": 42,
     "metadata": {},
     "output_type": "execute_result"
    }
   ],
   "source": [
    "dftrain['dx'].value_counts().keys().to_list()"
   ]
  },
  {
   "cell_type": "code",
   "execution_count": 48,
   "metadata": {},
   "outputs": [
    {
     "data": {
      "text/html": [
       "<div>\n",
       "<style scoped>\n",
       "    .dataframe tbody tr th:only-of-type {\n",
       "        vertical-align: middle;\n",
       "    }\n",
       "\n",
       "    .dataframe tbody tr th {\n",
       "        vertical-align: top;\n",
       "    }\n",
       "\n",
       "    .dataframe thead th {\n",
       "        text-align: right;\n",
       "    }\n",
       "</style>\n",
       "<table border=\"1\" class=\"dataframe\">\n",
       "  <thead>\n",
       "    <tr style=\"text-align: right;\">\n",
       "      <th></th>\n",
       "      <th>lesion_id</th>\n",
       "      <th>image_id</th>\n",
       "      <th>dx</th>\n",
       "      <th>dx_type</th>\n",
       "      <th>age</th>\n",
       "      <th>sex</th>\n",
       "      <th>localization</th>\n",
       "      <th>image_path</th>\n",
       "    </tr>\n",
       "  </thead>\n",
       "  <tbody>\n",
       "    <tr>\n",
       "      <th>0</th>\n",
       "      <td>HAM_0004756</td>\n",
       "      <td>ISIC_0030442_1</td>\n",
       "      <td>df</td>\n",
       "      <td>histo</td>\n",
       "      <td>55.0</td>\n",
       "      <td>male</td>\n",
       "      <td>lower extremity</td>\n",
       "      <td>../data/Augmented_rename/ISIC_0030442_1.jpg</td>\n",
       "    </tr>\n",
       "    <tr>\n",
       "      <th>1</th>\n",
       "      <td>HAM_0005989</td>\n",
       "      <td>ISIC_0033123_41</td>\n",
       "      <td>vasc</td>\n",
       "      <td>histo</td>\n",
       "      <td>25.0</td>\n",
       "      <td>female</td>\n",
       "      <td>back</td>\n",
       "      <td>../data/Augmented_rename/ISIC_0033123_41.jpg</td>\n",
       "    </tr>\n",
       "    <tr>\n",
       "      <th>2</th>\n",
       "      <td>HAM_0007225</td>\n",
       "      <td>ISIC_0031429_34</td>\n",
       "      <td>df</td>\n",
       "      <td>histo</td>\n",
       "      <td>75.0</td>\n",
       "      <td>male</td>\n",
       "      <td>lower extremity</td>\n",
       "      <td>../data/Augmented_rename/ISIC_0031429_34.jpg</td>\n",
       "    </tr>\n",
       "    <tr>\n",
       "      <th>3</th>\n",
       "      <td>HAM_0007410</td>\n",
       "      <td>ISIC_0031457_47</td>\n",
       "      <td>df</td>\n",
       "      <td>histo</td>\n",
       "      <td>65.0</td>\n",
       "      <td>male</td>\n",
       "      <td>foot</td>\n",
       "      <td>../data/Augmented_rename/ISIC_0031457_47.jpg</td>\n",
       "    </tr>\n",
       "    <tr>\n",
       "      <th>4</th>\n",
       "      <td>HAM_0002639</td>\n",
       "      <td>ISIC_0025249_24</td>\n",
       "      <td>vasc</td>\n",
       "      <td>consensus</td>\n",
       "      <td>30.0</td>\n",
       "      <td>female</td>\n",
       "      <td>lower extremity</td>\n",
       "      <td>../data/Augmented_rename/ISIC_0025249_24.jpg</td>\n",
       "    </tr>\n",
       "  </tbody>\n",
       "</table>\n",
       "</div>"
      ],
      "text/plain": [
       "     lesion_id         image_id    dx    dx_type   age     sex  \\\n",
       "0  HAM_0004756   ISIC_0030442_1    df      histo  55.0    male   \n",
       "1  HAM_0005989  ISIC_0033123_41  vasc      histo  25.0  female   \n",
       "2  HAM_0007225  ISIC_0031429_34    df      histo  75.0    male   \n",
       "3  HAM_0007410  ISIC_0031457_47    df      histo  65.0    male   \n",
       "4  HAM_0002639  ISIC_0025249_24  vasc  consensus  30.0  female   \n",
       "\n",
       "      localization                                    image_path  \n",
       "0  lower extremity   ../data/Augmented_rename/ISIC_0030442_1.jpg  \n",
       "1             back  ../data/Augmented_rename/ISIC_0033123_41.jpg  \n",
       "2  lower extremity  ../data/Augmented_rename/ISIC_0031429_34.jpg  \n",
       "3             foot  ../data/Augmented_rename/ISIC_0031457_47.jpg  \n",
       "4  lower extremity  ../data/Augmented_rename/ISIC_0025249_24.jpg  "
      ]
     },
     "execution_count": 48,
     "metadata": {},
     "output_type": "execute_result"
    }
   ],
   "source": [
    "dftrain.head()"
   ]
  },
  {
   "cell_type": "code",
   "execution_count": 89,
   "metadata": {},
   "outputs": [],
   "source": [
    "\n",
    "def plot_samples(df):\n",
    "    classes = df['dx'].value_counts().keys().to_list()\n",
    "    r = c = len(classes)\n",
    "    plt.figure(figsize=(10,10)) # specifying the overall grid size\n",
    "    \n",
    "    for cl in classes:\n",
    "        for i in range(r*c):\n",
    "        \n",
    "            \n",
    "            img_path = df[df['dx']==cl].iloc[i,-1]\n",
    "            # img_path = [df.iloc[i,-1] if df.iloc[i,2] == str(c)]\n",
    "            # print(c, img_path)\n",
    "            plt.subplot(r,c,i+1)    # the number of images in the grid is 5*5 (25)\n",
    "        # img_path = df.iloc[i,-1] for \n",
    "        \n",
    "            plt.imshow(cv2.imread(img_path))\n",
    "            plt.title(str(cl))\n",
    "\n",
    "\n",
    "            plt.show()"
   ]
  },
  {
   "cell_type": "code",
   "execution_count": null,
   "metadata": {},
   "outputs": [],
   "source": [
    "plot_samples(dftrain)"
   ]
  },
  {
   "cell_type": "code",
   "execution_count": null,
   "metadata": {},
   "outputs": [],
   "source": []
  }
 ],
 "metadata": {
  "kernelspec": {
   "display_name": "Python 3 (ipykernel)",
   "language": "python",
   "name": "python3"
  },
  "language_info": {
   "codemirror_mode": {
    "name": "ipython",
    "version": 3
   },
   "file_extension": ".py",
   "mimetype": "text/x-python",
   "name": "python",
   "nbconvert_exporter": "python",
   "pygments_lexer": "ipython3",
   "version": "3.9.6"
  }
 },
 "nbformat": 4,
 "nbformat_minor": 4
}
