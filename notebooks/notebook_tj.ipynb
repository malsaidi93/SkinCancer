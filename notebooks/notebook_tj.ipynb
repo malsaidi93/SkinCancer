{
 "cells": [
  {
   "cell_type": "code",
   "execution_count": 18,
   "metadata": {
    "collapsed": true
   },
   "outputs": [],
   "source": [
    "import torch\n",
    "import cv2\n",
    "import tqdm\n",
    "import matplotlib as plt\n",
    "import numpy as np\n",
    "import pandas as pd\n",
    "from sklearn.model_selection import train_test_split"
   ]
  },
  {
   "cell_type": "code",
   "execution_count": 40,
   "outputs": [
    {
     "data": {
      "text/plain": "     lesion_id      image_id   dx dx_type   age   sex localization\n0  HAM_0000118  ISIC_0027419  bkl   histo  80.0  male        scalp\n1  HAM_0000118  ISIC_0025030  bkl   histo  80.0  male        scalp\n2  HAM_0002730  ISIC_0026769  bkl   histo  80.0  male        scalp\n3  HAM_0002730  ISIC_0025661  bkl   histo  80.0  male        scalp\n4  HAM_0001466  ISIC_0031633  bkl   histo  75.0  male          ear",
      "text/html": "<div>\n<style scoped>\n    .dataframe tbody tr th:only-of-type {\n        vertical-align: middle;\n    }\n\n    .dataframe tbody tr th {\n        vertical-align: top;\n    }\n\n    .dataframe thead th {\n        text-align: right;\n    }\n</style>\n<table border=\"1\" class=\"dataframe\">\n  <thead>\n    <tr style=\"text-align: right;\">\n      <th></th>\n      <th>lesion_id</th>\n      <th>image_id</th>\n      <th>dx</th>\n      <th>dx_type</th>\n      <th>age</th>\n      <th>sex</th>\n      <th>localization</th>\n    </tr>\n  </thead>\n  <tbody>\n    <tr>\n      <th>0</th>\n      <td>HAM_0000118</td>\n      <td>ISIC_0027419</td>\n      <td>bkl</td>\n      <td>histo</td>\n      <td>80.0</td>\n      <td>male</td>\n      <td>scalp</td>\n    </tr>\n    <tr>\n      <th>1</th>\n      <td>HAM_0000118</td>\n      <td>ISIC_0025030</td>\n      <td>bkl</td>\n      <td>histo</td>\n      <td>80.0</td>\n      <td>male</td>\n      <td>scalp</td>\n    </tr>\n    <tr>\n      <th>2</th>\n      <td>HAM_0002730</td>\n      <td>ISIC_0026769</td>\n      <td>bkl</td>\n      <td>histo</td>\n      <td>80.0</td>\n      <td>male</td>\n      <td>scalp</td>\n    </tr>\n    <tr>\n      <th>3</th>\n      <td>HAM_0002730</td>\n      <td>ISIC_0025661</td>\n      <td>bkl</td>\n      <td>histo</td>\n      <td>80.0</td>\n      <td>male</td>\n      <td>scalp</td>\n    </tr>\n    <tr>\n      <th>4</th>\n      <td>HAM_0001466</td>\n      <td>ISIC_0031633</td>\n      <td>bkl</td>\n      <td>histo</td>\n      <td>75.0</td>\n      <td>male</td>\n      <td>ear</td>\n    </tr>\n  </tbody>\n</table>\n</div>"
     },
     "execution_count": 40,
     "metadata": {},
     "output_type": "execute_result"
    }
   ],
   "source": [
    "meta_file = '../data/HAM10k/HAM10000_metadata.csv'\n",
    "meta = pd.read_csv(meta_file)\n",
    "meta.head()"
   ],
   "metadata": {
    "collapsed": false
   }
  },
  {
   "cell_type": "code",
   "execution_count": 41,
   "outputs": [],
   "source": [
    "X, y = meta.iloc[:,[0,1,3,4,5,6]], meta.iloc[:,2]"
   ],
   "metadata": {
    "collapsed": false
   }
  },
  {
   "cell_type": "code",
   "execution_count": 42,
   "outputs": [
    {
     "name": "stdout",
     "output_type": "stream",
     "text": [
      "train: 8012, test: 2003 \n"
     ]
    }
   ],
   "source": [
    "xtrain, xtest, ytrain, ytest = train_test_split(X, y, test_size=0.20, stratify=y)\n",
    "print(f\"train: {len(xtrain)}, test: {len(xtest)} \")"
   ],
   "metadata": {
    "collapsed": false
   }
  },
  {
   "cell_type": "code",
   "execution_count": 43,
   "outputs": [
    {
     "data": {
      "text/plain": "nv       5364\nmel       890\nbkl       879\nbcc       411\nakiec     262\nvasc      114\ndf         92\nName: dx, dtype: int64"
     },
     "execution_count": 43,
     "metadata": {},
     "output_type": "execute_result"
    }
   ],
   "source": [
    "ytrain.value_counts()"
   ],
   "metadata": {
    "collapsed": false
   }
  },
  {
   "cell_type": "code",
   "execution_count": 44,
   "outputs": [
    {
     "data": {
      "text/plain": "nv       1341\nmel       223\nbkl       220\nbcc       103\nakiec      65\nvasc       28\ndf         23\nName: dx, dtype: int64"
     },
     "execution_count": 44,
     "metadata": {},
     "output_type": "execute_result"
    }
   ],
   "source": [
    "ytest.value_counts()"
   ],
   "metadata": {
    "collapsed": false
   }
  },
  {
   "cell_type": "code",
   "execution_count": 48,
   "outputs": [
    {
     "data": {
      "text/plain": "        lesion_id      image_id   dx    dx_type   age     sex     localization\n7744  HAM_0001943  ISIC_0034301   nv      histo  30.0  female  lower extremity\n7834  HAM_0002898  ISIC_0033179   nv      histo  80.0  female  upper extremity\n483   HAM_0005146  ISIC_0026526  bkl      histo  60.0    male             face\n7836  HAM_0002898  ISIC_0033721   nv      histo  80.0  female  upper extremity\n3478  HAM_0006569  ISIC_0030483   nv  follow_up  35.0    male  lower extremity\n...           ...           ...  ...        ...   ...     ...              ...\n1860  HAM_0001506  ISIC_0033051  mel      histo  25.0  female  lower extremity\n1617  HAM_0007180  ISIC_0033272  mel      histo  65.0    male             face\n8513  HAM_0000129  ISIC_0027486   nv      histo  40.0  female             back\n927   HAM_0006003  ISIC_0032827  bkl  consensus  85.0  female  lower extremity\n9642  HAM_0006861  ISIC_0031769   nv  consensus  50.0  female             back\n\n[8012 rows x 7 columns]",
      "text/html": "<div>\n<style scoped>\n    .dataframe tbody tr th:only-of-type {\n        vertical-align: middle;\n    }\n\n    .dataframe tbody tr th {\n        vertical-align: top;\n    }\n\n    .dataframe thead th {\n        text-align: right;\n    }\n</style>\n<table border=\"1\" class=\"dataframe\">\n  <thead>\n    <tr style=\"text-align: right;\">\n      <th></th>\n      <th>lesion_id</th>\n      <th>image_id</th>\n      <th>dx</th>\n      <th>dx_type</th>\n      <th>age</th>\n      <th>sex</th>\n      <th>localization</th>\n    </tr>\n  </thead>\n  <tbody>\n    <tr>\n      <th>7744</th>\n      <td>HAM_0001943</td>\n      <td>ISIC_0034301</td>\n      <td>nv</td>\n      <td>histo</td>\n      <td>30.0</td>\n      <td>female</td>\n      <td>lower extremity</td>\n    </tr>\n    <tr>\n      <th>7834</th>\n      <td>HAM_0002898</td>\n      <td>ISIC_0033179</td>\n      <td>nv</td>\n      <td>histo</td>\n      <td>80.0</td>\n      <td>female</td>\n      <td>upper extremity</td>\n    </tr>\n    <tr>\n      <th>483</th>\n      <td>HAM_0005146</td>\n      <td>ISIC_0026526</td>\n      <td>bkl</td>\n      <td>histo</td>\n      <td>60.0</td>\n      <td>male</td>\n      <td>face</td>\n    </tr>\n    <tr>\n      <th>7836</th>\n      <td>HAM_0002898</td>\n      <td>ISIC_0033721</td>\n      <td>nv</td>\n      <td>histo</td>\n      <td>80.0</td>\n      <td>female</td>\n      <td>upper extremity</td>\n    </tr>\n    <tr>\n      <th>3478</th>\n      <td>HAM_0006569</td>\n      <td>ISIC_0030483</td>\n      <td>nv</td>\n      <td>follow_up</td>\n      <td>35.0</td>\n      <td>male</td>\n      <td>lower extremity</td>\n    </tr>\n    <tr>\n      <th>...</th>\n      <td>...</td>\n      <td>...</td>\n      <td>...</td>\n      <td>...</td>\n      <td>...</td>\n      <td>...</td>\n      <td>...</td>\n    </tr>\n    <tr>\n      <th>1860</th>\n      <td>HAM_0001506</td>\n      <td>ISIC_0033051</td>\n      <td>mel</td>\n      <td>histo</td>\n      <td>25.0</td>\n      <td>female</td>\n      <td>lower extremity</td>\n    </tr>\n    <tr>\n      <th>1617</th>\n      <td>HAM_0007180</td>\n      <td>ISIC_0033272</td>\n      <td>mel</td>\n      <td>histo</td>\n      <td>65.0</td>\n      <td>male</td>\n      <td>face</td>\n    </tr>\n    <tr>\n      <th>8513</th>\n      <td>HAM_0000129</td>\n      <td>ISIC_0027486</td>\n      <td>nv</td>\n      <td>histo</td>\n      <td>40.0</td>\n      <td>female</td>\n      <td>back</td>\n    </tr>\n    <tr>\n      <th>927</th>\n      <td>HAM_0006003</td>\n      <td>ISIC_0032827</td>\n      <td>bkl</td>\n      <td>consensus</td>\n      <td>85.0</td>\n      <td>female</td>\n      <td>lower extremity</td>\n    </tr>\n    <tr>\n      <th>9642</th>\n      <td>HAM_0006861</td>\n      <td>ISIC_0031769</td>\n      <td>nv</td>\n      <td>consensus</td>\n      <td>50.0</td>\n      <td>female</td>\n      <td>back</td>\n    </tr>\n  </tbody>\n</table>\n<p>8012 rows × 7 columns</p>\n</div>"
     },
     "execution_count": 48,
     "metadata": {},
     "output_type": "execute_result"
    }
   ],
   "source": [
    "xtrain.insert(loc = 2, column = 'dx', value = ytrain)\n"
   ],
   "metadata": {
    "collapsed": false
   }
  },
  {
   "cell_type": "code",
   "execution_count": 49,
   "outputs": [],
   "source": [
    "xtest.insert(loc= 2 , column = 'dx', value = ytest )"
   ],
   "metadata": {
    "collapsed": false
   }
  },
  {
   "cell_type": "code",
   "execution_count": 52,
   "outputs": [
    {
     "data": {
      "text/plain": "        lesion_id      image_id   dx    dx_type   age     sex  \\\n7744  HAM_0001943  ISIC_0034301   nv      histo  30.0  female   \n7834  HAM_0002898  ISIC_0033179   nv      histo  80.0  female   \n483   HAM_0005146  ISIC_0026526  bkl      histo  60.0    male   \n7836  HAM_0002898  ISIC_0033721   nv      histo  80.0  female   \n3478  HAM_0006569  ISIC_0030483   nv  follow_up  35.0    male   \n...           ...           ...  ...        ...   ...     ...   \n1860  HAM_0001506  ISIC_0033051  mel      histo  25.0  female   \n1617  HAM_0007180  ISIC_0033272  mel      histo  65.0    male   \n8513  HAM_0000129  ISIC_0027486   nv      histo  40.0  female   \n927   HAM_0006003  ISIC_0032827  bkl  consensus  85.0  female   \n9642  HAM_0006861  ISIC_0031769   nv  consensus  50.0  female   \n\n         localization                                        image_pth  \n7744  lower extremity  ../data/HAM10k/HAM10000_images/ISIC_0034301.jpg  \n7834  upper extremity  ../data/HAM10k/HAM10000_images/ISIC_0033179.jpg  \n483              face  ../data/HAM10k/HAM10000_images/ISIC_0026526.jpg  \n7836  upper extremity  ../data/HAM10k/HAM10000_images/ISIC_0033721.jpg  \n3478  lower extremity  ../data/HAM10k/HAM10000_images/ISIC_0030483.jpg  \n...               ...                                              ...  \n1860  lower extremity  ../data/HAM10k/HAM10000_images/ISIC_0033051.jpg  \n1617             face  ../data/HAM10k/HAM10000_images/ISIC_0033272.jpg  \n8513             back  ../data/HAM10k/HAM10000_images/ISIC_0027486.jpg  \n927   lower extremity  ../data/HAM10k/HAM10000_images/ISIC_0032827.jpg  \n9642             back  ../data/HAM10k/HAM10000_images/ISIC_0031769.jpg  \n\n[8012 rows x 8 columns]",
      "text/html": "<div>\n<style scoped>\n    .dataframe tbody tr th:only-of-type {\n        vertical-align: middle;\n    }\n\n    .dataframe tbody tr th {\n        vertical-align: top;\n    }\n\n    .dataframe thead th {\n        text-align: right;\n    }\n</style>\n<table border=\"1\" class=\"dataframe\">\n  <thead>\n    <tr style=\"text-align: right;\">\n      <th></th>\n      <th>lesion_id</th>\n      <th>image_id</th>\n      <th>dx</th>\n      <th>dx_type</th>\n      <th>age</th>\n      <th>sex</th>\n      <th>localization</th>\n      <th>image_pth</th>\n    </tr>\n  </thead>\n  <tbody>\n    <tr>\n      <th>7744</th>\n      <td>HAM_0001943</td>\n      <td>ISIC_0034301</td>\n      <td>nv</td>\n      <td>histo</td>\n      <td>30.0</td>\n      <td>female</td>\n      <td>lower extremity</td>\n      <td>../data/HAM10k/HAM10000_images/ISIC_0034301.jpg</td>\n    </tr>\n    <tr>\n      <th>7834</th>\n      <td>HAM_0002898</td>\n      <td>ISIC_0033179</td>\n      <td>nv</td>\n      <td>histo</td>\n      <td>80.0</td>\n      <td>female</td>\n      <td>upper extremity</td>\n      <td>../data/HAM10k/HAM10000_images/ISIC_0033179.jpg</td>\n    </tr>\n    <tr>\n      <th>483</th>\n      <td>HAM_0005146</td>\n      <td>ISIC_0026526</td>\n      <td>bkl</td>\n      <td>histo</td>\n      <td>60.0</td>\n      <td>male</td>\n      <td>face</td>\n      <td>../data/HAM10k/HAM10000_images/ISIC_0026526.jpg</td>\n    </tr>\n    <tr>\n      <th>7836</th>\n      <td>HAM_0002898</td>\n      <td>ISIC_0033721</td>\n      <td>nv</td>\n      <td>histo</td>\n      <td>80.0</td>\n      <td>female</td>\n      <td>upper extremity</td>\n      <td>../data/HAM10k/HAM10000_images/ISIC_0033721.jpg</td>\n    </tr>\n    <tr>\n      <th>3478</th>\n      <td>HAM_0006569</td>\n      <td>ISIC_0030483</td>\n      <td>nv</td>\n      <td>follow_up</td>\n      <td>35.0</td>\n      <td>male</td>\n      <td>lower extremity</td>\n      <td>../data/HAM10k/HAM10000_images/ISIC_0030483.jpg</td>\n    </tr>\n    <tr>\n      <th>...</th>\n      <td>...</td>\n      <td>...</td>\n      <td>...</td>\n      <td>...</td>\n      <td>...</td>\n      <td>...</td>\n      <td>...</td>\n      <td>...</td>\n    </tr>\n    <tr>\n      <th>1860</th>\n      <td>HAM_0001506</td>\n      <td>ISIC_0033051</td>\n      <td>mel</td>\n      <td>histo</td>\n      <td>25.0</td>\n      <td>female</td>\n      <td>lower extremity</td>\n      <td>../data/HAM10k/HAM10000_images/ISIC_0033051.jpg</td>\n    </tr>\n    <tr>\n      <th>1617</th>\n      <td>HAM_0007180</td>\n      <td>ISIC_0033272</td>\n      <td>mel</td>\n      <td>histo</td>\n      <td>65.0</td>\n      <td>male</td>\n      <td>face</td>\n      <td>../data/HAM10k/HAM10000_images/ISIC_0033272.jpg</td>\n    </tr>\n    <tr>\n      <th>8513</th>\n      <td>HAM_0000129</td>\n      <td>ISIC_0027486</td>\n      <td>nv</td>\n      <td>histo</td>\n      <td>40.0</td>\n      <td>female</td>\n      <td>back</td>\n      <td>../data/HAM10k/HAM10000_images/ISIC_0027486.jpg</td>\n    </tr>\n    <tr>\n      <th>927</th>\n      <td>HAM_0006003</td>\n      <td>ISIC_0032827</td>\n      <td>bkl</td>\n      <td>consensus</td>\n      <td>85.0</td>\n      <td>female</td>\n      <td>lower extremity</td>\n      <td>../data/HAM10k/HAM10000_images/ISIC_0032827.jpg</td>\n    </tr>\n    <tr>\n      <th>9642</th>\n      <td>HAM_0006861</td>\n      <td>ISIC_0031769</td>\n      <td>nv</td>\n      <td>consensus</td>\n      <td>50.0</td>\n      <td>female</td>\n      <td>back</td>\n      <td>../data/HAM10k/HAM10000_images/ISIC_0031769.jpg</td>\n    </tr>\n  </tbody>\n</table>\n<p>8012 rows × 8 columns</p>\n</div>"
     },
     "execution_count": 52,
     "metadata": {},
     "output_type": "execute_result"
    }
   ],
   "source": [
    "root_path = '../data/HAM10k/HAM10000_images/'\n",
    "xtrain['image_pth'] = root_path + xtrain['image_id'] + str('.jpg')\n"
   ],
   "metadata": {
    "collapsed": false
   }
  },
  {
   "cell_type": "code",
   "execution_count": 53,
   "outputs": [],
   "source": [
    "xtest['image_pth'] = root_path + xtest['image_id'] + str('.jpg')"
   ],
   "metadata": {
    "collapsed": false
   }
  },
  {
   "cell_type": "code",
   "execution_count": 55,
   "outputs": [],
   "source": [
    "xtest.to_csv('../data/test.csv', index=False)\n",
    "xtrain.to_csv('../data/train.csv', index=False)"
   ],
   "metadata": {
    "collapsed": false
   }
  }
 ],
 "metadata": {
  "kernelspec": {
   "display_name": "Python 3",
   "language": "python",
   "name": "python3"
  },
  "language_info": {
   "codemirror_mode": {
    "name": "ipython",
    "version": 2
   },
   "file_extension": ".py",
   "mimetype": "text/x-python",
   "name": "python",
   "nbconvert_exporter": "python",
   "pygments_lexer": "ipython2",
   "version": "2.7.6"
  }
 },
 "nbformat": 4,
 "nbformat_minor": 0
}
