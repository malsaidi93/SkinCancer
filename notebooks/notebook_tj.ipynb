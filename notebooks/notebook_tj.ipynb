{
 "cells": [
  {
   "cell_type": "code",
   "execution_count": 7,
   "metadata": {
    "tags": []
   },
   "outputs": [],
   "source": [
    "import torch\n",
    "import cv2\n",
    "from tqdm import tqdm_notebook as tqdm\n",
    "import matplotlib as plt\n",
    "import numpy as np\n",
    "import pandas as pd\n",
    "from sklearn.model_selection import train_test_split\n",
    "import os"
   ]
  },
  {
   "cell_type": "code",
   "execution_count": 8,
   "metadata": {},
   "outputs": [],
   "source": [
    "def read_file(path):\n",
    "    meta = pd.read_csv(path, index_col=0)\n",
    "    return meta"
   ]
  },
  {
   "cell_type": "code",
   "execution_count": 9,
   "metadata": {
    "collapsed": false,
    "jupyter": {
     "outputs_hidden": false
    }
   },
   "outputs": [],
   "source": [
    "meta = read_file('../data/new_augmented.csv')"
   ]
  },
  {
   "cell_type": "markdown",
   "metadata": {},
   "source": [
    "meta['dx'].value_counts()"
   ]
  },
  {
   "cell_type": "code",
   "execution_count": 10,
   "metadata": {},
   "outputs": [],
   "source": [
    "root = '../data/Combined_data/'\n",
    "meta['new_paths'] = root + meta['image_id']+'.jpg'"
   ]
  },
  {
   "cell_type": "code",
   "execution_count": 11,
   "metadata": {},
   "outputs": [
    {
     "data": {
      "text/html": [
       "<div>\n",
       "<style scoped>\n",
       "    .dataframe tbody tr th:only-of-type {\n",
       "        vertical-align: middle;\n",
       "    }\n",
       "\n",
       "    .dataframe tbody tr th {\n",
       "        vertical-align: top;\n",
       "    }\n",
       "\n",
       "    .dataframe thead th {\n",
       "        text-align: right;\n",
       "    }\n",
       "</style>\n",
       "<table border=\"1\" class=\"dataframe\">\n",
       "  <thead>\n",
       "    <tr style=\"text-align: right;\">\n",
       "      <th></th>\n",
       "      <th>lesion_id</th>\n",
       "      <th>image_id</th>\n",
       "      <th>dx</th>\n",
       "      <th>dx_type</th>\n",
       "      <th>age</th>\n",
       "      <th>sex</th>\n",
       "      <th>localization</th>\n",
       "      <th>image_path</th>\n",
       "      <th>new_paths</th>\n",
       "    </tr>\n",
       "  </thead>\n",
       "  <tbody>\n",
       "    <tr>\n",
       "      <th>0</th>\n",
       "      <td>HAM_0000118</td>\n",
       "      <td>ISIC_0027419</td>\n",
       "      <td>bkl</td>\n",
       "      <td>histo</td>\n",
       "      <td>80.0</td>\n",
       "      <td>male</td>\n",
       "      <td>scalp</td>\n",
       "      <td>../data/Augmented_rename/ISIC_0027419.jpg</td>\n",
       "      <td>../data/Combined_data/ISIC_0027419.jpg</td>\n",
       "    </tr>\n",
       "    <tr>\n",
       "      <th>1</th>\n",
       "      <td>HAM_0000118</td>\n",
       "      <td>ISIC_0025030</td>\n",
       "      <td>bkl</td>\n",
       "      <td>histo</td>\n",
       "      <td>80.0</td>\n",
       "      <td>male</td>\n",
       "      <td>scalp</td>\n",
       "      <td>../data/Augmented_rename/ISIC_0025030.jpg</td>\n",
       "      <td>../data/Combined_data/ISIC_0025030.jpg</td>\n",
       "    </tr>\n",
       "    <tr>\n",
       "      <th>2</th>\n",
       "      <td>HAM_0002730</td>\n",
       "      <td>ISIC_0026769</td>\n",
       "      <td>bkl</td>\n",
       "      <td>histo</td>\n",
       "      <td>80.0</td>\n",
       "      <td>male</td>\n",
       "      <td>scalp</td>\n",
       "      <td>../data/Augmented_rename/ISIC_0026769.jpg</td>\n",
       "      <td>../data/Combined_data/ISIC_0026769.jpg</td>\n",
       "    </tr>\n",
       "    <tr>\n",
       "      <th>3</th>\n",
       "      <td>HAM_0002730</td>\n",
       "      <td>ISIC_0025661</td>\n",
       "      <td>bkl</td>\n",
       "      <td>histo</td>\n",
       "      <td>80.0</td>\n",
       "      <td>male</td>\n",
       "      <td>scalp</td>\n",
       "      <td>../data/Augmented_rename/ISIC_0025661.jpg</td>\n",
       "      <td>../data/Combined_data/ISIC_0025661.jpg</td>\n",
       "    </tr>\n",
       "    <tr>\n",
       "      <th>4</th>\n",
       "      <td>HAM_0001466</td>\n",
       "      <td>ISIC_0031633</td>\n",
       "      <td>bkl</td>\n",
       "      <td>histo</td>\n",
       "      <td>75.0</td>\n",
       "      <td>male</td>\n",
       "      <td>ear</td>\n",
       "      <td>../data/Augmented_rename/ISIC_0031633.jpg</td>\n",
       "      <td>../data/Combined_data/ISIC_0031633.jpg</td>\n",
       "    </tr>\n",
       "  </tbody>\n",
       "</table>\n",
       "</div>"
      ],
      "text/plain": [
       "     lesion_id      image_id   dx dx_type   age   sex localization  \\\n",
       "0  HAM_0000118  ISIC_0027419  bkl   histo  80.0  male        scalp   \n",
       "1  HAM_0000118  ISIC_0025030  bkl   histo  80.0  male        scalp   \n",
       "2  HAM_0002730  ISIC_0026769  bkl   histo  80.0  male        scalp   \n",
       "3  HAM_0002730  ISIC_0025661  bkl   histo  80.0  male        scalp   \n",
       "4  HAM_0001466  ISIC_0031633  bkl   histo  75.0  male          ear   \n",
       "\n",
       "                                  image_path  \\\n",
       "0  ../data/Augmented_rename/ISIC_0027419.jpg   \n",
       "1  ../data/Augmented_rename/ISIC_0025030.jpg   \n",
       "2  ../data/Augmented_rename/ISIC_0026769.jpg   \n",
       "3  ../data/Augmented_rename/ISIC_0025661.jpg   \n",
       "4  ../data/Augmented_rename/ISIC_0031633.jpg   \n",
       "\n",
       "                                new_paths  \n",
       "0  ../data/Combined_data/ISIC_0027419.jpg  \n",
       "1  ../data/Combined_data/ISIC_0025030.jpg  \n",
       "2  ../data/Combined_data/ISIC_0026769.jpg  \n",
       "3  ../data/Combined_data/ISIC_0025661.jpg  \n",
       "4  ../data/Combined_data/ISIC_0031633.jpg  "
      ]
     },
     "execution_count": 11,
     "metadata": {},
     "output_type": "execute_result"
    }
   ],
   "source": [
    "meta.head()"
   ]
  },
  {
   "cell_type": "code",
   "execution_count": 13,
   "metadata": {
    "collapsed": false,
    "jupyter": {
     "outputs_hidden": false
    }
   },
   "outputs": [],
   "source": [
    "X, y = meta.iloc[:,[0,1,3,4,5,6,7,8]], meta.iloc[:,2]"
   ]
  },
  {
   "cell_type": "code",
   "execution_count": 14,
   "metadata": {
    "collapsed": false,
    "jupyter": {
     "outputs_hidden": false
    }
   },
   "outputs": [
    {
     "name": "stdout",
     "output_type": "stream",
     "text": [
      "train: 37596, test: 9400 \n"
     ]
    },
    {
     "data": {
      "text/plain": [
       "df       5381\n",
       "vasc     5377\n",
       "bcc      5372\n",
       "mel      5369\n",
       "bkl      5367\n",
       "akiec    5366\n",
       "nv       5364\n",
       "Name: dx, dtype: int64"
      ]
     },
     "execution_count": 14,
     "metadata": {},
     "output_type": "execute_result"
    }
   ],
   "source": [
    "# root_path = '../data/HAM10k/HAM10000_images/'\n",
    "\n",
    "# train/test Split\n",
    "xtrain, xtest, ytrain, ytest = train_test_split(X, y, test_size=0.20, stratify=y)\n",
    "print(f\"train: {len(xtrain)}, test: {len(xtest)} \")\n",
    "\n",
    "# Concat X/y for train/test\n",
    "xtrain.insert(loc = 2, column = 'dx', value = ytrain)\n",
    "xtest.insert(loc= 2 , column = 'dx', value = ytest )\n",
    "\n",
    "# Adding Image paths column\n",
    "# xtrain['image_pth'] = root_path + xtrain['image_id'] + str('.jpg')\n",
    "# xtest['image_pth'] = root_path + xtest['image_id'] + str('.jpg')\n",
    "\n",
    "# Writing to CSV\n",
    "xtest.to_csv('../data/Meta_Test_Aug.csv', index=False)\n",
    "xtrain.to_csv('../data/Meta_Train_Aug.csv', index=False)\n",
    "\n",
    "xtrain['dx'].value_counts()"
   ]
  },
  {
   "cell_type": "code",
   "execution_count": 15,
   "metadata": {},
   "outputs": [],
   "source": [
    "def Check_Paths(file):\n",
    "    meta = pd.read_csv('../data/Meta_Test_Aug.csv')\n",
    "    Files_NotFound = []\n",
    "    for i, r in meta.iterrows():\n",
    "        if os.path.exists(meta.iloc[i, -1]):\n",
    "            continue\n",
    "        else:\n",
    "            Files_NotFound.append(meta.iloc[i, -1])\n",
    "    return Files_NotFound\n",
    "        "
   ]
  },
  {
   "cell_type": "code",
   "execution_count": 16,
   "metadata": {},
   "outputs": [
    {
     "data": {
      "text/plain": [
       "0"
      ]
     },
     "execution_count": 16,
     "metadata": {},
     "output_type": "execute_result"
    }
   ],
   "source": [
    "nf = Check_Paths('../data/Meta_Test_Aug.csv')\n",
    "len(nf)"
   ]
  },
  {
   "cell_type": "code",
   "execution_count": null,
   "metadata": {},
   "outputs": [],
   "source": [
    "nf"
   ]
  },
  {
   "cell_type": "code",
   "execution_count": null,
   "metadata": {},
   "outputs": [],
   "source": [
    "meta_ag = read_file('../data/new_augmented.csv')\n",
    "meta_ag['dx'].value_counts()\n",
    "meta_ag.head()"
   ]
  },
  {
   "cell_type": "code",
   "execution_count": null,
   "metadata": {},
   "outputs": [],
   "source": [
    "df = meta\n",
    "desc = meta['dx'].value_counts()\n",
    "desc"
   ]
  },
  {
   "cell_type": "code",
   "execution_count": null,
   "metadata": {},
   "outputs": [],
   "source": [
    "from keras.preprocessing.image import ImageDataGenerator\n",
    "from keras.preprocessing.image import img_to_array, load_img\n",
    "from tqdm import tqdm_notebook as tqdm\n",
    "\n",
    "gen = ImageDataGenerator(rotation_range=10, width_shift_range=0.1, height_shift_range=0.1, \n",
    "                        shear_range=0.15, zoom_range= 0.1, channel_shift_range= 10, horizontal_flip= True)"
   ]
  },
  {
   "cell_type": "code",
   "execution_count": null,
   "metadata": {},
   "outputs": [],
   "source": [
    "from keras.preprocessing.image import ImageDataGenerator\n",
    "from keras.preprocessing.image import img_to_array, load_img\n",
    "from tqdm import tqdm_notebook as tqdm\n",
    "\n",
    "gen = ImageDataGenerator(rotation_range=10, width_shift_range=0.1, height_shift_range=0.1, \n",
    "                        shear_range=0.15, zoom_range= 0.1, channel_shift_range= 10, horizontal_flip= True)\n",
    "\n",
    "for key in desc.keys():\n",
    "    print(key, desc[key])\n",
    "    ratio = int(desc['nv']/ desc[key])\n",
    "    print('ratio to nv: ', ratio)\n",
    "    print('We need around', ratio, ' augmentation per image to change ratio to 1')\n",
    "    all_images = df[df['dx'] == key]['image_id'].values\n",
    "    if(key == 'nv'):\n",
    "    continue\n",
    "    printonce= True\n",
    "    # iterate over all images augment them, save them and insert them in our metadata frame\n",
    "    for image_ in tqdm(all_images):\n",
    "    if(len(df[df['dx'] == key]) > len(df[df['dx'] == 'nv'])):\n",
    "        if printonce:\n",
    "            print(key, 'datapoints = ', len(df[df['dx'] == key]), 'reached above nv skipping more augmentations..')\n",
    "            printonce = False\n",
    "        continue\n",
    "    try:\n",
    "        basedir= 'data/HAM10k/HAM10000_images/'\n",
    "        image_path=  basedir + image_ + '.jpg'\n",
    "        image= load_img(image_path)\n",
    "    except:\n",
    "        print(f\"Exception for image folder....\")\n",
    "\n",
    "    image = np.expand_dims(img_to_array(image), axis= 0)\n",
    "    generated = gen.flow(image)\n",
    "    row = df[df['image_id'] == image_]\n",
    "    dict_for_df = {\n",
    "        'lesion_id':row.lesion_id.values[0], 'image_id':row.image_id.values[0], \n",
    "        'dx':row.dx.values[0], 'dx_type':row.dx_type.values[0] ,\n",
    "        'age':row.age.values[0], 'sex':row.sex.values[0], 'localization':row.localization.values[0] \n",
    "    }\n",
    "    for i in range(int(ratio)):\n",
    "        aug_image= next(generated).astype(np.uint8)\n",
    "        # save this image with an underscore\n",
    "        # add this to metadata dataframe\n",
    "        image_name= dict_for_df['image_id'] + '_' + str(i)\n",
    "        dict_for_df['image_id'] = image_name\n",
    "        df = df.append(dict_for_df, ignore_index=True)\n",
    "        plt.imsave('../data/HAM10k/Augmented/' + image_name + '.jpg', aug_image[0])"
   ]
  },
  {
   "cell_type": "code",
   "execution_count": null,
   "metadata": {},
   "outputs": [],
   "source": []
  }
 ],
 "metadata": {
  "kernelspec": {
   "display_name": "Python 3 (ipykernel)",
   "language": "python",
   "name": "python3"
  },
  "language_info": {
   "codemirror_mode": {
    "name": "ipython",
    "version": 3
   },
   "file_extension": ".py",
   "mimetype": "text/x-python",
   "name": "python",
   "nbconvert_exporter": "python",
   "pygments_lexer": "ipython3",
   "version": "3.8.0"
  }
 },
 "nbformat": 4,
 "nbformat_minor": 4
}
